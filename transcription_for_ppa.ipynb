{
 "cells": [
  {
   "cell_type": "code",
   "execution_count": 1,
   "id": "56ab7447",
   "metadata": {},
   "outputs": [],
   "source": [
    "import warnings\n",
    "warnings.filterwarnings(\"ignore\")\n",
    "\n",
    "import tensorflow as tf\n",
    "import pandas as pd\n",
    "import whisper\n",
    "from moviepy.editor import *"
   ]
  },
  {
   "cell_type": "code",
   "execution_count": 4,
   "id": "2fc5a746",
   "metadata": {},
   "outputs": [
    {
     "name": "stdout",
     "output_type": "stream",
     "text": [
      "Downloading 1QkQNI8tAZWGQybCy69dTmZ7RXvB4eQkS into ./data/video.mp4... Done.\n"
     ]
    }
   ],
   "source": [
    "from google_drive_downloader import GoogleDriveDownloader as gdd\n",
    "# gdd.DOWNLOAD_URL()/\n",
    "video_file = gdd.download_file_from_google_drive(file_id=\"1QkQNI8tAZWGQybCy69dTmZ7RXvB4eQkS\",\n",
    "        dest_path='./data/video.mp4', unzip=False, overwrite=True)"
   ]
  },
  {
   "cell_type": "code",
   "execution_count": null,
   "id": "c0cf7425",
   "metadata": {},
   "outputs": [],
   "source": [
    "name_person = \"./data/video\""
   ]
  },
  {
   "cell_type": "code",
   "execution_count": null,
   "id": "f3428d5c",
   "metadata": {},
   "outputs": [],
   "source": [
    "# tiny, base, small, medium, large: pick one model among these\n",
    "model = whisper.load_model(\"small\")\n",
    "\n",
    "video_file_name = name_person + '.mp4'\n",
    "audio_file_name = name_person + '_audio.mp3'\n",
    "\n",
    "read_video_file = True\n",
    "write_audio_file = True"
   ]
  },
  {
   "cell_type": "code",
   "execution_count": null,
   "id": "c8c3b4e0",
   "metadata": {},
   "outputs": [],
   "source": [
    "if read_video_file:\n",
    "    video = VideoFileClip(video_file_name)\n",
    "    audio = video.audio\n",
    "    if write_audio_file:\n",
    "        audio.write_audiofile(audio_file_name, )"
   ]
  },
  {
   "cell_type": "code",
   "execution_count": null,
   "id": "e025be42",
   "metadata": {},
   "outputs": [],
   "source": [
    "output = model.transcribe(name_person + \"_audio.mp3\", language='en')\n",
    "transcription_df = pd.json_normalize(output['segments'])\n",
    "\n",
    "transcript = output['text']"
   ]
  },
  {
   "cell_type": "code",
   "execution_count": null,
   "id": "012135fe",
   "metadata": {},
   "outputs": [],
   "source": [
    "transcription_df['temp'] = \"{\"+ transcription_df['start'].astype(str) + \", \" + transcription_df['end'].astype(str) +\"}\" + transcription_df['text'] \n",
    "\n",
    "transcription1 = '\\n'.join(transcription_df['temp'].to_list())\n",
    "\n",
    "transcription2 = \"\\n\".join(transcription_df['text'])"
   ]
  },
  {
   "cell_type": "code",
   "execution_count": null,
   "id": "11ab9478",
   "metadata": {},
   "outputs": [],
   "source": [
    "save_complete_text = True\n",
    "if save_complete_text:\n",
    "    with open(name_person + '_transcript1.txt', 'w') as f:\n",
    "        f.write(transcription1)\n",
    "    with open(name_person + '_transcript2.txt', 'w') as f:\n",
    "        f.write(transcription2)\n"
   ]
  },
  {
   "cell_type": "code",
   "execution_count": null,
   "id": "ed9b8d54",
   "metadata": {},
   "outputs": [],
   "source": []
  }
 ],
 "metadata": {
  "kernelspec": {
   "display_name": "Python 3 (ipykernel)",
   "language": "python",
   "name": "python3"
  },
  "language_info": {
   "codemirror_mode": {
    "name": "ipython",
    "version": 3
   },
   "file_extension": ".py",
   "mimetype": "text/x-python",
   "name": "python",
   "nbconvert_exporter": "python",
   "pygments_lexer": "ipython3",
   "version": "3.9.12"
  },
  "vscode": {
   "interpreter": {
    "hash": "c8486bde8b59009764353821226773551dca55e0495505bf24755efd69ef3c8d"
   }
  }
 },
 "nbformat": 4,
 "nbformat_minor": 5
}
