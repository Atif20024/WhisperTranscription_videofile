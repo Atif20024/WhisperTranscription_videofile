{
 "cells": [
  {
   "cell_type": "code",
   "execution_count": 3,
   "id": "56ab7447",
   "metadata": {},
   "outputs": [],
   "source": [
    "import warnings\n",
    "warnings.filterwarnings(\"ignore\")\n",
    "\n",
    "import tensorflow as tf\n",
    "import pandas as pd\n",
    "import whisper\n",
    "from moviepy.editor import *"
   ]
  },
  {
   "cell_type": "code",
   "execution_count": 4,
   "id": "c0cf7425",
   "metadata": {},
   "outputs": [],
   "source": [
    "name_person = \"Hariom ss\""
   ]
  },
  {
   "cell_type": "code",
   "execution_count": 5,
   "id": "c8c3b4e0",
   "metadata": {},
   "outputs": [
    {
     "name": "stdout",
     "output_type": "stream",
     "text": [
      "MoviePy - Writing audio in Hariom ss_audio.mp3\n"
     ]
    },
    {
     "name": "stderr",
     "output_type": "stream",
     "text": [
      "                                                                                "
     ]
    },
    {
     "name": "stdout",
     "output_type": "stream",
     "text": [
      "MoviePy - Done.\n"
     ]
    },
    {
     "name": "stderr",
     "output_type": "stream",
     "text": [
      "\r"
     ]
    }
   ],
   "source": [
    "# tiny, base, small, medium, large: pick one model among these\n",
    "model = whisper.load_model(\"small\")\n",
    "\n",
    "video_file_name = name_person + '.mp4'\n",
    "audio_file_name = name_person + '_audio.mp3'\n",
    "\n",
    "video = VideoFileClip(video_file_name)\n",
    "audio = video.audio"
   ]
  },
  {
   "cell_type": "code",
   "execution_count": null,
   "id": "e025be42",
   "metadata": {},
   "outputs": [],
   "source": [
    "output = model.transcribe(audio, language='en')\n",
    "transcription_df = pd.json_normalize(output['segments'])\n",
    "\n",
    "transcript = output['text']"
   ]
  },
  {
   "cell_type": "code",
   "execution_count": 7,
   "id": "11ab9478",
   "metadata": {},
   "outputs": [],
   "source": [
    "save_complete_text = True\n",
    "if save_complete_text:\n",
    "    with open(name_person + '_transcript.txt', 'w') as f:\n",
    "        f.write(transcript)\n"
   ]
  }
 ],
 "metadata": {
  "kernelspec": {
   "display_name": "Python 3.9.12 (conda)",
   "language": "python",
   "name": "python3"
  },
  "language_info": {
   "codemirror_mode": {
    "name": "ipython",
    "version": 3
   },
   "file_extension": ".py",
   "mimetype": "text/x-python",
   "name": "python",
   "nbconvert_exporter": "python",
   "pygments_lexer": "ipython3",
   "version": "3.9.12"
  },
  "vscode": {
   "interpreter": {
    "hash": "c8486bde8b59009764353821226773551dca55e0495505bf24755efd69ef3c8d"
   }
  }
 },
 "nbformat": 4,
 "nbformat_minor": 5
}
